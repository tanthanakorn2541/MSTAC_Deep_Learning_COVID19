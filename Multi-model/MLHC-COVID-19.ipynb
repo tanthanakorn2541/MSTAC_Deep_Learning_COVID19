{
 "cells": [
  {
   "cell_type": "code",
   "execution_count": 1,
   "metadata": {},
   "outputs": [],
   "source": [
    "from sklearn.metrics import classification_report, confusion_matrix\n",
    "from sklearn.metrics import f1_score, accuracy_score, recall_score, precision_score\n",
    "from sklearn import metrics\n",
    "from sklearn.metrics import roc_auc_score\n",
    "import numpy as np\n",
    "from tensorflow.keras.utils import to_categorical"
   ]
  },
  {
   "cell_type": "code",
   "execution_count": 2,
   "metadata": {},
   "outputs": [
    {
     "name": "stdout",
     "output_type": "stream",
     "text": [
      "------------------------------\n",
      "Creating test images...\n",
      "------------------------------\n",
      "COVID-19 0\n",
      "Done: 0/210 images\n",
      "Done: 100/210 images\n",
      "Done: 200/210 images\n",
      "Non-COVID 1\n",
      "Done: 0/210 images\n",
      "Done: 100/210 images\n",
      "Done: 200/210 images\n",
      "Normal 2\n",
      "Done: 0/210 images\n",
      "Done: 100/210 images\n",
      "Done: 200/210 images\n",
      "210\n",
      "Loading done.\n"
     ]
    }
   ],
   "source": [
    "from load_data_MLHC import load_test_data\n",
    "\n",
    "## Run only for the first time\n",
    "X_test, y_test = load_test_data()\n",
    "TRUE = y_test"
   ]
  },
  {
   "cell_type": "code",
   "execution_count": 3,
   "metadata": {},
   "outputs": [],
   "source": [
    "from sklearn.metrics import classification_report, confusion_matrix\n",
    "from sklearn.metrics import f1_score, accuracy_score, recall_score, precision_score\n",
    "from tensorflow.keras.models import load_model"
   ]
  },
  {
   "cell_type": "code",
   "execution_count": 4,
   "metadata": {},
   "outputs": [],
   "source": [
    "Model_healthy = load_model('../Layer-I/model_layer1/CNN')\n",
    "y_pred_healthy = Model_healthy.predict(X_test)\n",
    "y_true_healthy = y_test"
   ]
  },
  {
   "cell_type": "code",
   "execution_count": 5,
   "metadata": {},
   "outputs": [],
   "source": [
    "# For NN\n",
    "y_pred_healthy_NN = np.argmax(y_pred_healthy,axis=1)\n",
    "position = []\n",
    "y_pred_multiclass = []\n",
    "\n",
    "for i in range(len(y_pred_healthy_NN)):\n",
    "    if y_pred_healthy_NN[i] == 1:\n",
    "        y_pred_multiclass.append(2)\n",
    "        position.append(i)"
   ]
  },
  {
   "cell_type": "code",
   "execution_count": 6,
   "metadata": {},
   "outputs": [],
   "source": [
    "# # For ML\n",
    "# position = []\n",
    "# y_pred_multiclass = []\n",
    "\n",
    "# for i in range(len(y_pred_healthy)):\n",
    "#     if y_pred_healthy[i] == 1:\n",
    "#         y_pred_multiclass.append(2)\n",
    "#         position.append(i)"
   ]
  },
  {
   "cell_type": "code",
   "execution_count": 7,
   "metadata": {},
   "outputs": [],
   "source": [
    "X_test_multiclass = []\n",
    "y_true_multiclass = []"
   ]
  },
  {
   "cell_type": "code",
   "execution_count": 8,
   "metadata": {},
   "outputs": [],
   "source": [
    "X_test = X_test.tolist()\n",
    "y_test = y_test.tolist()\n",
    "for i in reversed(range(len(position))):\n",
    "    \n",
    "    pop_x = X_test.pop(position[i])\n",
    "    pop_y = y_test.pop(position[i])\n",
    "    X_test_multiclass.append(pop_x)\n",
    "    y_true_multiclass.append(pop_y)"
   ]
  },
  {
   "cell_type": "code",
   "execution_count": 9,
   "metadata": {
    "tags": []
   },
   "outputs": [
    {
     "name": "stdout",
     "output_type": "stream",
     "text": [
      "203\n",
      "203\n",
      "203\n"
     ]
    }
   ],
   "source": [
    "print(len(X_test_multiclass))\n",
    "print(len(y_true_multiclass))\n",
    "print(len(y_pred_multiclass))"
   ]
  },
  {
   "cell_type": "code",
   "execution_count": 10,
   "metadata": {},
   "outputs": [
    {
     "name": "stdout",
     "output_type": "stream",
     "text": [
      "427\n",
      "427\n"
     ]
    }
   ],
   "source": [
    "print(len(X_test))\n",
    "print(len(y_test))"
   ]
  },
  {
   "cell_type": "code",
   "execution_count": 11,
   "metadata": {},
   "outputs": [],
   "source": [
    "# For ML\n",
    "# Model_COVID = joblib.load('../Layer-II/model_layer2/Layer2_SVM.model')\n",
    "# y_pred_COVID = Model_COVID.predict(X_test)\n",
    "# y_true_COVID = y_test"
   ]
  },
  {
   "cell_type": "code",
   "execution_count": 12,
   "metadata": {},
   "outputs": [],
   "source": [
    "# For NN\n",
    "Model_COVID = load_model('../Layer-II/model_layer2/CNN')\n",
    "y_pred_COVID = Model_COVID.predict(X_test)\n",
    "y_true_COVID = y_test"
   ]
  },
  {
   "cell_type": "code",
   "execution_count": 13,
   "metadata": {},
   "outputs": [],
   "source": [
    "# For NN\n",
    "y_pred_COVID = np.argmax(y_pred_COVID,axis=1)\n",
    "y_pred_COVID = y_pred_COVID.tolist()"
   ]
  },
  {
   "cell_type": "code",
   "execution_count": 14,
   "metadata": {},
   "outputs": [],
   "source": [
    "# For ML\n",
    "# y_pred_COVID = y_pred_COVID.tolist()"
   ]
  },
  {
   "cell_type": "code",
   "execution_count": 15,
   "metadata": {},
   "outputs": [
    {
     "name": "stdout",
     "output_type": "stream",
     "text": [
      "              precision    recall  f1-score   support\n",
      "\n",
      "    COVID-19    0.99048   0.99048   0.99048       210\n",
      "Non-COVID-19    0.94931   0.98095   0.96487       210\n",
      "     Healthy    0.98030   0.94762   0.96368       210\n",
      "\n",
      "    accuracy                        0.97302       630\n",
      "   macro avg    0.97336   0.97302   0.97301       630\n",
      "weighted avg    0.97336   0.97302   0.97301       630\n",
      "\n",
      "====================================================================================================\n",
      "[[208   1   1]\n",
      " [  1 206   3]\n",
      " [  1  10 199]]\n",
      "====================================================================================================\n"
     ]
    }
   ],
   "source": [
    "y_true = y_true_multiclass+y_true_COVID\n",
    "y_pred = y_pred_multiclass+y_pred_COVID\n",
    "y_TRUE = np.argmax(y_true,axis=1)\n",
    "\n",
    "print(classification_report(y_TRUE, y_pred , target_names=[\"COVID-19\",\"Non-COVID-19\",\"Healthy\"], digits = 5))\n",
    "cnf_matrix = confusion_matrix(y_TRUE, y_pred)\n",
    "print('=' * 100)\n",
    "print(cnf_matrix)\n",
    "print('=' * 100)"
   ]
  },
  {
   "cell_type": "code",
   "execution_count": 16,
   "metadata": {},
   "outputs": [],
   "source": [
    "import matplotlib.pyplot as plt\n",
    "from sklearn.metrics import plot_confusion_matrix"
   ]
  },
  {
   "cell_type": "code",
   "execution_count": 17,
   "metadata": {},
   "outputs": [],
   "source": [
    "def plot_confusion_matrix(cm, classes,\n",
    "                          normalize=False,\n",
    "                          title='Confusion matrix',\n",
    "                          cmap=plt.cm.Blues):\n",
    "    \"\"\"\n",
    "    This function prints and plots the confusion matrix.\n",
    "    Normalization can be applied by setting `normalize=True`.\n",
    "    \"\"\"\n",
    "    import itertools\n",
    "    if normalize:\n",
    "        cm = cm.astype('float') / cm.sum(axis=1)[:, np.newaxis]\n",
    "        print(\"Normalized confusion matrix\")\n",
    "    else:\n",
    "        print('Confusion matrix, without normalization')\n",
    "\n",
    "    print(cm)\n",
    "\n",
    "    plt.imshow(cm, interpolation='nearest', cmap=cmap)\n",
    "    plt.title(title)\n",
    "    plt.colorbar()\n",
    "    tick_marks = np.arange(len(classes))\n",
    "    plt.xticks(tick_marks, classes, rotation=45)\n",
    "    plt.yticks(tick_marks, classes)\n",
    "\n",
    "    fmt = '.2f' if normalize else 'd'\n",
    "    thresh = cm.max() / 2.\n",
    "    for i, j in itertools.product(range(cm.shape[0]), range(cm.shape[1])):\n",
    "        plt.text(j, i, format(cm[i, j], fmt),\n",
    "                 horizontalalignment=\"center\",\n",
    "                 color=\"white\" if cm[i, j] > thresh else \"black\")\n",
    "\n",
    "    plt.ylabel('True label')\n",
    "    plt.xlabel('Predicted label')\n",
    "    plt.tight_layout()"
   ]
  },
  {
   "cell_type": "code",
   "execution_count": 18,
   "metadata": {},
   "outputs": [
    {
     "name": "stdout",
     "output_type": "stream",
     "text": [
      "Confusion matrix, without normalization\n",
      "[[208   1   1]\n",
      " [  1 206   3]\n",
      " [  1  10 199]]\n"
     ]
    },
    {
     "data": {
      "image/png": "[encoded data removed]",
      "text/plain": [
       "<Figure size 432x288 with 2 Axes>"
      ]
     },
     "metadata": {
      "needs_background": "light"
     },
     "output_type": "display_data"
    }
   ],
   "source": [
    "np.set_printoptions(precision=2)\n",
    "\n",
    "# Plot non-normalized confusion matrix\n",
    "plt.figure()\n",
    "plot_confusion_matrix(cnf_matrix, classes=[\"COVID-19\",\"Non-COVID-19\",\"Healthy\"],\n",
    "                      title='Confusion matrix, without normalization')"
   ]
  },
  {
   "cell_type": "code",
   "execution_count": 19,
   "metadata": {},
   "outputs": [
    {
     "data": {
      "text/plain": [
       "<function matplotlib.pyplot.show(close=None, block=None)>"
      ]
     },
     "execution_count": 19,
     "metadata": {},
     "output_type": "execute_result"
    },
    {
     "data": {
      "image/png": "[encoded data removed]",
      "text/plain": [
       "<Figure size 432x288 with 2 Axes>"
      ]
     },
     "metadata": {
      "needs_background": "light"
     },
     "output_type": "display_data"
    }
   ],
   "source": [
    "import seaborn as sns\n",
    "plt.figure()\n",
    "ax = plt.subplot()\n",
    "\n",
    "ax.set_title('MLHC-DL Confusion Matrix')\n",
    "cm = metrics.confusion_matrix(y_TRUE,y_pred)\n",
    "classes=['COVID-19', 'Non-COVID-19', 'Healthy']\n",
    "sns.heatmap(cm, annot=True,xticklabels=classes, yticklabels=classes,cmap='Blues',fmt='g')\n",
    "\n",
    "plt.xlabel('Predicted')\n",
    "plt.ylabel('Actual')\n",
    "plt.show"
   ]
  },
  {
   "cell_type": "code",
   "execution_count": 20,
   "metadata": {},
   "outputs": [
    {
     "name": "stderr",
     "output_type": "stream",
     "text": [
      "C:\\Users\\Tan\\AppData\\Local\\Temp\\ipykernel_9672\\2515340757.py:19: UserWarning: linestyle is redundantly defined by the 'linestyle' keyword argument and the fmt string \"k--\" (-> linestyle='--'). The keyword argument will take precedence.\n",
      "  plt.plot([0, 1], [0, 1], 'k--',linestyle='--')\n"
     ]
    },
    {
     "data": {
      "image/png": "[encoded data removed]",
      "text/plain": [
       "<Figure size 432x288 with 1 Axes>"
      ]
     },
     "metadata": {
      "needs_background": "light"
     },
     "output_type": "display_data"
    }
   ],
   "source": [
    "from sklearn.metrics import roc_curve, auc\n",
    "#f = plt.subplots(figsize=(5, 5))\n",
    "PRED = to_categorical(y_pred)\n",
    "TRUE = np.array(y_true)\n",
    "num_classes = 3\n",
    "\n",
    "fpr = dict()\n",
    "tpr = dict()\n",
    "roc_auc = dict()\n",
    "for i in range(num_classes):\n",
    "       fpr[i], tpr[i], _ = roc_curve(TRUE[:,i], PRED[:,i])\n",
    "       roc_auc[i] = auc(fpr[i], tpr[i])\n",
    "       colors = ['blue', 'red', 'green']\n",
    "cls = {0:'COVID-19', 1:'Non-COVID-19', 2:'Healthy'}\n",
    "for i, color ,c in zip(range(num_classes), colors, cls.values()):\n",
    "    plt.plot(fpr[i], tpr[i], color=color, lw=0.5,\n",
    "             label='ROC curve of '+c+ '(AUC = {1:0.4f})'\n",
    "             ''.format(i, roc_auc[i]))\n",
    "plt.plot([0, 1], [0, 1], 'k--',linestyle='--')\n",
    "plt.xlim([-0.05, 1.0])\n",
    "plt.ylim([0.0, 1.05])\n",
    "plt.xlabel('False Positive Rate')\n",
    "plt.ylabel('True Positive Rate')\n",
    "plt.title('ROC for MLHC-DL')\n",
    "plt.legend(loc=\"lower right\")\n",
    "plt.show()"
   ]
  }
 ],
 "metadata": {
  "interpreter": {
   "hash": "20a0f0d03332e075446279bc9e63d42ce57e2f3f2bac2d817e7259ae1bf640aa"
  },
  "kernelspec": {
   "display_name": "Python 3.10.4 ('covid')",
   "language": "python",
   "name": "python3"
  },
  "language_info": {
   "codemirror_mode": {
    "name": "ipython",
    "version": 3
   },
   "file_extension": ".py",
   "mimetype": "text/x-python",
   "name": "python",
   "nbconvert_exporter": "python",
   "pygments_lexer": "ipython3",
   "version": "3.8.13"
  },
  "orig_nbformat": 2
 },
 "nbformat": 4,
 "nbformat_minor": 2
}
